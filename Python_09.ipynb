{
  "nbformat": 4,
  "nbformat_minor": 0,
  "metadata": {
    "colab": {
      "provenance": []
    },
    "kernelspec": {
      "name": "python3",
      "display_name": "Python 3"
    },
    "language_info": {
      "name": "python"
    }
  },
  "cells": [
    {
      "cell_type": "markdown",
      "source": [
        "#Summary:-\n",
        "##String Method\n",
        "(replace, Checking Length of String, Remove All Spaces, Count, Split, Lower Case, Upper Case, Title Case, Capitalize, Swapcase)\n",
        "##String indexing\n",
        "##String Slicing\n",
        "##Palindrom Sequence\n",
        "##Mutability\n",
        "##Join Method\n",
        "##Remove Extra Spaces front and back of the String\n",
        "##Remove Space from Left side\n",
        "##Remove Space from Right side\n",
        "##Remove All the Space\n",
        "##Formatting\n",
        "##Checking String Cases"
      ],
      "metadata": {
        "id": "cbjvVpRwVlvF"
      }
    },
    {
      "cell_type": "markdown",
      "source": [
        "##String Method:-\n",
        "###String indexing:-\n",
        "###Start from 0\n",
        "###s u n n y\n",
        "###0 1 2 3 4\n",
        "###-5 -4 -3 -2 -1  (Reverse)"
      ],
      "metadata": {
        "id": "AFhiiTxOgZhM"
      }
    },
    {
      "cell_type": "markdown",
      "source": [
        "###NOTE:- If N character or element are there in a string, then the index range will vary from 0 to (N-1).\n",
        "###Example:-\n",
        "###\"sunny\" ==> N=5\n",
        "###index value is ranging from 0 to 4\n",
        "###To index in Reverse Order - the index range from -1 to -N"
      ],
      "metadata": {
        "id": "A3r7NFCKi9Xz"
      }
    },
    {
      "cell_type": "code",
      "execution_count": null,
      "metadata": {
        "colab": {
          "base_uri": "https://localhost:8080/",
          "height": 35
        },
        "id": "sRVf1C0BVRmP",
        "outputId": "b9c09c6e-dd4f-4844-9759-e7deb9d2997f"
      },
      "outputs": [
        {
          "output_type": "execute_result",
          "data": {
            "text/plain": [
              "'s'"
            ],
            "application/vnd.google.colaboratory.intrinsic+json": {
              "type": "string"
            }
          },
          "metadata": {},
          "execution_count": 5
        }
      ],
      "source": [
        "# String Indexing\n",
        "#       01234 \n",
        "#   -5-4-3-2-1\n",
        "name = \"sunny\"\n",
        "name[0]"
      ]
    },
    {
      "cell_type": "code",
      "source": [
        "name[1]"
      ],
      "metadata": {
        "colab": {
          "base_uri": "https://localhost:8080/",
          "height": 35
        },
        "id": "sANvRXnKg3sr",
        "outputId": "bc159068-a516-4e09-e83b-b88dfa6c13cc"
      },
      "execution_count": null,
      "outputs": [
        {
          "output_type": "execute_result",
          "data": {
            "text/plain": [
              "'u'"
            ],
            "application/vnd.google.colaboratory.intrinsic+json": {
              "type": "string"
            }
          },
          "metadata": {},
          "execution_count": 4
        }
      ]
    },
    {
      "cell_type": "code",
      "source": [
        "name[4]"
      ],
      "metadata": {
        "colab": {
          "base_uri": "https://localhost:8080/",
          "height": 35
        },
        "id": "UvgZiB3MhGmD",
        "outputId": "49f1a018-6a07-4974-eb89-dd2faf73dcfc"
      },
      "execution_count": null,
      "outputs": [
        {
          "output_type": "execute_result",
          "data": {
            "text/plain": [
              "'y'"
            ],
            "application/vnd.google.colaboratory.intrinsic+json": {
              "type": "string"
            }
          },
          "metadata": {},
          "execution_count": 6
        }
      ]
    },
    {
      "cell_type": "code",
      "source": [
        "name[-1]  #Access Last element"
      ],
      "metadata": {
        "colab": {
          "base_uri": "https://localhost:8080/",
          "height": 35
        },
        "id": "YnANUE6ZiYNc",
        "outputId": "cec6a7fd-b9c7-483b-d11d-d99e2633b055"
      },
      "execution_count": null,
      "outputs": [
        {
          "output_type": "execute_result",
          "data": {
            "text/plain": [
              "'y'"
            ],
            "application/vnd.google.colaboratory.intrinsic+json": {
              "type": "string"
            }
          },
          "metadata": {},
          "execution_count": 7
        }
      ]
    },
    {
      "cell_type": "markdown",
      "source": [
        "##String Slicing:-"
      ],
      "metadata": {
        "id": "w2NJ4eOTkllM"
      }
    },
    {
      "cell_type": "code",
      "source": [
        "#       01234 \n",
        "#   -5-4-3-2-1\n",
        "name = \"sunny\"\n",
        "name[1:]"
      ],
      "metadata": {
        "id": "uSABvQuUia2C",
        "colab": {
          "base_uri": "https://localhost:8080/",
          "height": 35
        },
        "outputId": "a9c5e5dd-b1d5-433d-b128-4dfa3e478fbb"
      },
      "execution_count": 1,
      "outputs": [
        {
          "output_type": "execute_result",
          "data": {
            "text/plain": [
              "'unny'"
            ],
            "application/vnd.google.colaboratory.intrinsic+json": {
              "type": "string"
            }
          },
          "metadata": {},
          "execution_count": 1
        }
      ]
    },
    {
      "cell_type": "code",
      "source": [
        "name[0:4]  #Ending Point is Excluded [Starting Point:Ending Point]"
      ],
      "metadata": {
        "colab": {
          "base_uri": "https://localhost:8080/",
          "height": 35
        },
        "id": "DImuIYxzQGNz",
        "outputId": "3d1225de-a5f6-450f-96dc-f6af1a2a5ddf"
      },
      "execution_count": 2,
      "outputs": [
        {
          "output_type": "execute_result",
          "data": {
            "text/plain": [
              "'sunn'"
            ],
            "application/vnd.google.colaboratory.intrinsic+json": {
              "type": "string"
            }
          },
          "metadata": {},
          "execution_count": 2
        }
      ]
    },
    {
      "cell_type": "code",
      "source": [
        "name[0:5]"
      ],
      "metadata": {
        "colab": {
          "base_uri": "https://localhost:8080/",
          "height": 35
        },
        "id": "9Is22JOOQTCJ",
        "outputId": "e680ec49-d790-4d22-a91c-be9ea5b864a8"
      },
      "execution_count": 3,
      "outputs": [
        {
          "output_type": "execute_result",
          "data": {
            "text/plain": [
              "'sunny'"
            ],
            "application/vnd.google.colaboratory.intrinsic+json": {
              "type": "string"
            }
          },
          "metadata": {},
          "execution_count": 3
        }
      ]
    },
    {
      "cell_type": "code",
      "source": [
        "name[0:]  # Ending is Empty means, it will take upto Last Element"
      ],
      "metadata": {
        "colab": {
          "base_uri": "https://localhost:8080/",
          "height": 35
        },
        "id": "QcfhuOPfQzVZ",
        "outputId": "4a82c075-5cbe-4e24-ac30-759df7ecf06e"
      },
      "execution_count": 4,
      "outputs": [
        {
          "output_type": "execute_result",
          "data": {
            "text/plain": [
              "'sunny'"
            ],
            "application/vnd.google.colaboratory.intrinsic+json": {
              "type": "string"
            }
          },
          "metadata": {},
          "execution_count": 4
        }
      ]
    },
    {
      "cell_type": "markdown",
      "source": [
        "##Palindrom Sequence\n",
        "###data[Starting Point:Ending Point:Steps]"
      ],
      "metadata": {
        "id": "KRvUQqyjTHHS"
      }
    },
    {
      "cell_type": "code",
      "source": [
        "name = \"sunny\"\n",
        "name[0:5:2]   #Jumping 2 Steps and taking these Jump as an Output"
      ],
      "metadata": {
        "colab": {
          "base_uri": "https://localhost:8080/",
          "height": 35
        },
        "id": "Auq0V_vxQ3Tg",
        "outputId": "4d26357c-aad1-4c13-e50b-452e2d3efbe5"
      },
      "execution_count": 5,
      "outputs": [
        {
          "output_type": "execute_result",
          "data": {
            "text/plain": [
              "'sny'"
            ],
            "application/vnd.google.colaboratory.intrinsic+json": {
              "type": "string"
            }
          },
          "metadata": {},
          "execution_count": 5
        }
      ]
    },
    {
      "cell_type": "code",
      "source": [
        "#       01234567\n",
        "name = \"Dipankar\"\n",
        "name[0:7:2]   #Jumping 2 Steps and taking these Jump as an Output"
      ],
      "metadata": {
        "colab": {
          "base_uri": "https://localhost:8080/",
          "height": 35
        },
        "id": "pkZJiMCbUDKq",
        "outputId": "081ac73b-7cfa-4e79-cf56-993a15d6101b"
      },
      "execution_count": 6,
      "outputs": [
        {
          "output_type": "execute_result",
          "data": {
            "text/plain": [
              "'Dpna'"
            ],
            "application/vnd.google.colaboratory.intrinsic+json": {
              "type": "string"
            }
          },
          "metadata": {},
          "execution_count": 6
        }
      ]
    },
    {
      "cell_type": "code",
      "source": [
        "#       01234567\n",
        "name = \"Dipankar\"\n",
        "name[0: :2]"
      ],
      "metadata": {
        "colab": {
          "base_uri": "https://localhost:8080/",
          "height": 35
        },
        "id": "kLuG-nNLUZ4h",
        "outputId": "0012a016-f5d8-427b-a753-876c0328ffa7"
      },
      "execution_count": 7,
      "outputs": [
        {
          "output_type": "execute_result",
          "data": {
            "text/plain": [
              "'Dpna'"
            ],
            "application/vnd.google.colaboratory.intrinsic+json": {
              "type": "string"
            }
          },
          "metadata": {},
          "execution_count": 7
        }
      ]
    },
    {
      "cell_type": "code",
      "source": [
        "#       01234567\n",
        "name = \"Dipankar\"\n",
        "name[0: :3]  #Jumping 3 Steps and taking these Jump as an Output"
      ],
      "metadata": {
        "colab": {
          "base_uri": "https://localhost:8080/",
          "height": 35
        },
        "id": "dHPv-jyfUyFJ",
        "outputId": "9221d9e5-232a-41c6-9ab3-96c7ba0f3bd6"
      },
      "execution_count": 8,
      "outputs": [
        {
          "output_type": "execute_result",
          "data": {
            "text/plain": [
              "'Daa'"
            ],
            "application/vnd.google.colaboratory.intrinsic+json": {
              "type": "string"
            }
          },
          "metadata": {},
          "execution_count": 8
        }
      ]
    },
    {
      "cell_type": "code",
      "source": [
        "#       01234567\n",
        "name = \"Dipankar\"\n",
        "name[::]"
      ],
      "metadata": {
        "colab": {
          "base_uri": "https://localhost:8080/",
          "height": 35
        },
        "id": "8m8wJd09U6Bp",
        "outputId": "4d7ca92b-d638-41ac-e147-c758440333cb"
      },
      "execution_count": 9,
      "outputs": [
        {
          "output_type": "execute_result",
          "data": {
            "text/plain": [
              "'Dipankar'"
            ],
            "application/vnd.google.colaboratory.intrinsic+json": {
              "type": "string"
            }
          },
          "metadata": {},
          "execution_count": 9
        }
      ]
    },
    {
      "cell_type": "code",
      "source": [
        "#       01234567\n",
        "name = \"Dipankar\"\n",
        "name[::2]"
      ],
      "metadata": {
        "colab": {
          "base_uri": "https://localhost:8080/",
          "height": 35
        },
        "id": "IHpu-0BvWTpS",
        "outputId": "bd773a53-aaac-4c05-c855-aa2718b86b03"
      },
      "execution_count": 10,
      "outputs": [
        {
          "output_type": "execute_result",
          "data": {
            "text/plain": [
              "'Dpna'"
            ],
            "application/vnd.google.colaboratory.intrinsic+json": {
              "type": "string"
            }
          },
          "metadata": {},
          "execution_count": 10
        }
      ]
    },
    {
      "cell_type": "code",
      "source": [
        "#       01234567\n",
        "name = \"Dipankar\"\n",
        "name[::-1]  #Start from Reverse"
      ],
      "metadata": {
        "colab": {
          "base_uri": "https://localhost:8080/",
          "height": 35
        },
        "id": "K39wNipcWceB",
        "outputId": "33aec53a-d65f-4706-fbdb-1ade405ee52d"
      },
      "execution_count": 11,
      "outputs": [
        {
          "output_type": "execute_result",
          "data": {
            "text/plain": [
              "'raknapiD'"
            ],
            "application/vnd.google.colaboratory.intrinsic+json": {
              "type": "string"
            }
          },
          "metadata": {},
          "execution_count": 11
        }
      ]
    },
    {
      "cell_type": "markdown",
      "source": [
        "##Mutability:-\n",
        "###String is immutable. (means which is not Changable)\n",
        "###We can not replace String using index method."
      ],
      "metadata": {
        "id": "GB_VkPjQXke5"
      }
    },
    {
      "cell_type": "code",
      "source": [
        "name = \"Sunny\"\n",
        "#Replace S with F\n",
        "\n",
        "name[0] = \"F\"  #You can not change with any word\n"
      ],
      "metadata": {
        "colab": {
          "base_uri": "https://localhost:8080/",
          "height": 201
        },
        "id": "GrEqOx2AWlop",
        "outputId": "8c6789b0-40b0-4f88-9e11-cbd0754850eb"
      },
      "execution_count": 12,
      "outputs": [
        {
          "output_type": "error",
          "ename": "TypeError",
          "evalue": "ignored",
          "traceback": [
            "\u001b[0;31m---------------------------------------------------------------------------\u001b[0m",
            "\u001b[0;31mTypeError\u001b[0m                                 Traceback (most recent call last)",
            "\u001b[0;32m<ipython-input-12-244c3b9f0b58>\u001b[0m in \u001b[0;36m<module>\u001b[0;34m\u001b[0m\n\u001b[1;32m      2\u001b[0m \u001b[0;31m#Replace S with F\u001b[0m\u001b[0;34m\u001b[0m\u001b[0;34m\u001b[0m\u001b[0m\n\u001b[1;32m      3\u001b[0m \u001b[0;34m\u001b[0m\u001b[0m\n\u001b[0;32m----> 4\u001b[0;31m \u001b[0mname\u001b[0m\u001b[0;34m[\u001b[0m\u001b[0;36m0\u001b[0m\u001b[0;34m]\u001b[0m \u001b[0;34m=\u001b[0m \u001b[0;34m\"F\"\u001b[0m\u001b[0;34m\u001b[0m\u001b[0;34m\u001b[0m\u001b[0m\n\u001b[0m",
            "\u001b[0;31mTypeError\u001b[0m: 'str' object does not support item assignment"
          ]
        }
      ]
    },
    {
      "cell_type": "markdown",
      "source": [
        "##String Methods:-"
      ],
      "metadata": {
        "id": "EYt7fdK6ZJVy"
      }
    },
    {
      "cell_type": "markdown",
      "source": [
        "###replace"
      ],
      "metadata": {
        "id": "bJ_JVPbYaT2i"
      }
    },
    {
      "cell_type": "code",
      "source": [
        "name = \"Sunny\"\n",
        "name.replace(\"y\", \"PPP\")"
      ],
      "metadata": {
        "colab": {
          "base_uri": "https://localhost:8080/",
          "height": 35
        },
        "id": "QIhyW4JiX7ki",
        "outputId": "52bfc9dd-acde-41ff-c624-fb31fa62f15a"
      },
      "execution_count": 14,
      "outputs": [
        {
          "output_type": "execute_result",
          "data": {
            "text/plain": [
              "'SunnPPP'"
            ],
            "application/vnd.google.colaboratory.intrinsic+json": {
              "type": "string"
            }
          },
          "metadata": {},
          "execution_count": 14
        }
      ]
    },
    {
      "cell_type": "code",
      "source": [
        "name  #Didn't Change"
      ],
      "metadata": {
        "colab": {
          "base_uri": "https://localhost:8080/",
          "height": 35
        },
        "id": "0cRuk6vtZwS5",
        "outputId": "290e3470-172f-44e4-e79b-84ea85452e55"
      },
      "execution_count": 15,
      "outputs": [
        {
          "output_type": "execute_result",
          "data": {
            "text/plain": [
              "'Sunny'"
            ],
            "application/vnd.google.colaboratory.intrinsic+json": {
              "type": "string"
            }
          },
          "metadata": {},
          "execution_count": 15
        }
      ]
    },
    {
      "cell_type": "code",
      "source": [
        "name = \"Sunny\"\n",
        "your_name = name.replace(\"y\", \"PPP\")  #you have to assign with variable\n",
        "your_name"
      ],
      "metadata": {
        "colab": {
          "base_uri": "https://localhost:8080/",
          "height": 35
        },
        "id": "A4JvJZHrZamy",
        "outputId": "69caa10c-8086-40b0-f6d9-15b15bccba2f"
      },
      "execution_count": 16,
      "outputs": [
        {
          "output_type": "execute_result",
          "data": {
            "text/plain": [
              "'SunnPPP'"
            ],
            "application/vnd.google.colaboratory.intrinsic+json": {
              "type": "string"
            }
          },
          "metadata": {},
          "execution_count": 16
        }
      ]
    },
    {
      "cell_type": "markdown",
      "source": [
        "###Replace Space with Underscore"
      ],
      "metadata": {
        "id": "4Re8kv3xa6Cp"
      }
    },
    {
      "cell_type": "code",
      "source": [
        "name = \"Dipanjan Das\"\n",
        "myName = name.replace(\" \", \"_\")\n",
        "myName"
      ],
      "metadata": {
        "colab": {
          "base_uri": "https://localhost:8080/",
          "height": 35
        },
        "id": "rWGrsAdwZ3dA",
        "outputId": "e22c5591-6089-44b4-eee6-8c59028e6ab8"
      },
      "execution_count": 18,
      "outputs": [
        {
          "output_type": "execute_result",
          "data": {
            "text/plain": [
              "'Dipanjan_Das'"
            ],
            "application/vnd.google.colaboratory.intrinsic+json": {
              "type": "string"
            }
          },
          "metadata": {},
          "execution_count": 18
        }
      ]
    },
    {
      "cell_type": "markdown",
      "source": [
        "###Checking Length of String"
      ],
      "metadata": {
        "id": "ANhUkOl5bfXZ"
      }
    },
    {
      "cell_type": "code",
      "source": [
        "name = \"Dipanjan Das\"\n",
        "len(name)"
      ],
      "metadata": {
        "colab": {
          "base_uri": "https://localhost:8080/"
        },
        "id": "J31RIBXnbI7j",
        "outputId": "3c789fa7-cd39-4470-e7cd-aa7dd6d5e94a"
      },
      "execution_count": 19,
      "outputs": [
        {
          "output_type": "execute_result",
          "data": {
            "text/plain": [
              "12"
            ]
          },
          "metadata": {},
          "execution_count": 19
        }
      ]
    },
    {
      "cell_type": "markdown",
      "source": [
        "###Remove All Spaces:-"
      ],
      "metadata": {
        "id": "RuXwocVMb4m5"
      }
    },
    {
      "cell_type": "code",
      "source": [
        "name = \"Dipanjan Das    \"\n",
        "myName = name.replace(\" \", \"\")\n",
        "myName"
      ],
      "metadata": {
        "colab": {
          "base_uri": "https://localhost:8080/",
          "height": 35
        },
        "id": "zW6yWkX6bteZ",
        "outputId": "d073c774-2b90-4190-8e8e-9144ea02cd0b"
      },
      "execution_count": 20,
      "outputs": [
        {
          "output_type": "execute_result",
          "data": {
            "text/plain": [
              "'DipanjanDas'"
            ],
            "application/vnd.google.colaboratory.intrinsic+json": {
              "type": "string"
            }
          },
          "metadata": {},
          "execution_count": 20
        }
      ]
    },
    {
      "cell_type": "markdown",
      "source": [
        "###Count:-\n",
        "###Count Specific Character in a string"
      ],
      "metadata": {
        "id": "_r1JDXpDdZMh"
      }
    },
    {
      "cell_type": "code",
      "source": [
        "name = \"Dipanjan Das\"\n",
        "name.count(\"D\")"
      ],
      "metadata": {
        "colab": {
          "base_uri": "https://localhost:8080/"
        },
        "id": "h5cVWOBScSEZ",
        "outputId": "859db2d2-81eb-472d-f887-4bf726988fcb"
      },
      "execution_count": 21,
      "outputs": [
        {
          "output_type": "execute_result",
          "data": {
            "text/plain": [
              "2"
            ]
          },
          "metadata": {},
          "execution_count": 21
        }
      ]
    },
    {
      "cell_type": "code",
      "source": [
        "name.count(\"a\")"
      ],
      "metadata": {
        "colab": {
          "base_uri": "https://localhost:8080/"
        },
        "id": "KuNaBvMAdzca",
        "outputId": "72de76d6-c6e2-4922-bc97-323081a0be59"
      },
      "execution_count": 22,
      "outputs": [
        {
          "output_type": "execute_result",
          "data": {
            "text/plain": [
              "3"
            ]
          },
          "metadata": {},
          "execution_count": 22
        }
      ]
    },
    {
      "cell_type": "markdown",
      "source": [
        "###Split:-"
      ],
      "metadata": {
        "id": "HTrMDDBpeFKx"
      }
    },
    {
      "cell_type": "code",
      "source": [
        "name = \"Synny Bhabeen Chandra\"\n",
        "name.split(\" \")"
      ],
      "metadata": {
        "colab": {
          "base_uri": "https://localhost:8080/"
        },
        "id": "9SBfwBMMd61J",
        "outputId": "c89aea01-6af6-4667-ab49-a28cce9d611a"
      },
      "execution_count": 24,
      "outputs": [
        {
          "output_type": "execute_result",
          "data": {
            "text/plain": [
              "['Synny', 'Bhabeen', 'Chandra']"
            ]
          },
          "metadata": {},
          "execution_count": 24
        }
      ]
    },
    {
      "cell_type": "code",
      "source": [
        "name = \"Synny Bhabeen Chandra\"\n",
        "firstName, middleName, lastName = name.split(\" \")\n",
        "print(f\"\"\"\n",
        "First Name: {firstName}\n",
        "Middle Name: {middleName}\n",
        "Last Name: {lastName}\n",
        "\"\"\")"
      ],
      "metadata": {
        "colab": {
          "base_uri": "https://localhost:8080/"
        },
        "id": "t9UB4HiwePzI",
        "outputId": "136c3939-0454-4781-add9-6d69e67480ec"
      },
      "execution_count": 25,
      "outputs": [
        {
          "output_type": "stream",
          "name": "stdout",
          "text": [
            "\n",
            "First Name: Synny\n",
            "Middle Name: Bhabeen\n",
            "Last Name: Chandra\n",
            "\n"
          ]
        }
      ]
    },
    {
      "cell_type": "code",
      "source": [
        "data = input(\"Enter Date of Birth in this Format DD/MM/YYYY\")\n",
        "date, month, year = data.split(\"/\")\n",
        "print(f\"User was Born on {date} of {month} in this {year}\")"
      ],
      "metadata": {
        "colab": {
          "base_uri": "https://localhost:8080/"
        },
        "id": "s4ziBYobgd-Z",
        "outputId": "7ef9707e-08f3-460b-95f1-d9f7d03a8dc7"
      },
      "execution_count": 27,
      "outputs": [
        {
          "output_type": "stream",
          "name": "stdout",
          "text": [
            "Enter Date of Birth in this Format DD/MM/YYYY28/02/1992\n",
            "User was Born on 28 of 02 in this 1992\n"
          ]
        }
      ]
    },
    {
      "cell_type": "code",
      "source": [
        "data.split(\"/\")"
      ],
      "metadata": {
        "colab": {
          "base_uri": "https://localhost:8080/"
        },
        "id": "Qm2pibJuhiR4",
        "outputId": "7c860403-491f-4751-d6ee-abaf1e630836"
      },
      "execution_count": 28,
      "outputs": [
        {
          "output_type": "execute_result",
          "data": {
            "text/plain": [
              "['28', '02', '1992']"
            ]
          },
          "metadata": {},
          "execution_count": 28
        }
      ]
    },
    {
      "cell_type": "markdown",
      "source": [
        "###Lower Case:-"
      ],
      "metadata": {
        "id": "vy1Upg1wjQ8Q"
      }
    },
    {
      "cell_type": "code",
      "source": [
        "name = \"Dipanjan Das\"\n",
        "name.lower()"
      ],
      "metadata": {
        "colab": {
          "base_uri": "https://localhost:8080/",
          "height": 35
        },
        "id": "z-GT-3iHh-jo",
        "outputId": "4fdc8918-80a2-4435-a887-15f48f6de346"
      },
      "execution_count": 29,
      "outputs": [
        {
          "output_type": "execute_result",
          "data": {
            "text/plain": [
              "'dipanjan das'"
            ],
            "application/vnd.google.colaboratory.intrinsic+json": {
              "type": "string"
            }
          },
          "metadata": {},
          "execution_count": 29
        }
      ]
    },
    {
      "cell_type": "markdown",
      "source": [
        "###Upper Case:-"
      ],
      "metadata": {
        "id": "OsozrjKVjpOP"
      }
    },
    {
      "cell_type": "code",
      "source": [
        "name = \"Dipanjan Das\"\n",
        "name.upper()"
      ],
      "metadata": {
        "colab": {
          "base_uri": "https://localhost:8080/",
          "height": 35
        },
        "id": "IzasUekvjkPn",
        "outputId": "d90c25df-244d-45f8-8f34-5d56a141a71f"
      },
      "execution_count": 30,
      "outputs": [
        {
          "output_type": "execute_result",
          "data": {
            "text/plain": [
              "'DIPANJAN DAS'"
            ],
            "application/vnd.google.colaboratory.intrinsic+json": {
              "type": "string"
            }
          },
          "metadata": {},
          "execution_count": 30
        }
      ]
    },
    {
      "cell_type": "markdown",
      "source": [
        "###Title Case:-\n",
        "###Every first Letter will be Capital"
      ],
      "metadata": {
        "id": "WgxNyesojzmQ"
      }
    },
    {
      "cell_type": "code",
      "source": [
        "name = \"dipanjan das\"\n",
        "name.title()  "
      ],
      "metadata": {
        "colab": {
          "base_uri": "https://localhost:8080/",
          "height": 35
        },
        "id": "yL9oh6yrjupP",
        "outputId": "add8151f-375f-498a-a277-c1df0e18f7c5"
      },
      "execution_count": 31,
      "outputs": [
        {
          "output_type": "execute_result",
          "data": {
            "text/plain": [
              "'Dipanjan Das'"
            ],
            "application/vnd.google.colaboratory.intrinsic+json": {
              "type": "string"
            }
          },
          "metadata": {},
          "execution_count": 31
        }
      ]
    },
    {
      "cell_type": "markdown",
      "source": [
        "###Capitalize:-\n",
        "###Only first Letter will be Capital"
      ],
      "metadata": {
        "id": "4I5KLSv2kIlY"
      }
    },
    {
      "cell_type": "code",
      "source": [
        "name = \"dipanjan das\"\n",
        "name.capitalize()"
      ],
      "metadata": {
        "colab": {
          "base_uri": "https://localhost:8080/",
          "height": 35
        },
        "id": "A8RMN91rj7uA",
        "outputId": "d8f68769-f59a-483d-bce9-8527f770bbef"
      },
      "execution_count": 32,
      "outputs": [
        {
          "output_type": "execute_result",
          "data": {
            "text/plain": [
              "'Dipanjan das'"
            ],
            "application/vnd.google.colaboratory.intrinsic+json": {
              "type": "string"
            }
          },
          "metadata": {},
          "execution_count": 32
        }
      ]
    },
    {
      "cell_type": "markdown",
      "source": [
        "###Swapcase:-\n",
        "###It will do Reverse.\n",
        "###If Lower Case - So it will be Upper Case\n",
        "###If Upper Case - So it will be Lower Case"
      ],
      "metadata": {
        "id": "8Y5jeIcskZaA"
      }
    },
    {
      "cell_type": "code",
      "source": [
        "name = \"Dipanjan Das\"\n",
        "name.swapcase()"
      ],
      "metadata": {
        "colab": {
          "base_uri": "https://localhost:8080/",
          "height": 35
        },
        "id": "s1AuYiKSkV8w",
        "outputId": "e2a5612b-8ede-47ec-9198-530e8be44135"
      },
      "execution_count": 33,
      "outputs": [
        {
          "output_type": "execute_result",
          "data": {
            "text/plain": [
              "'dIPANJAN dAS'"
            ],
            "application/vnd.google.colaboratory.intrinsic+json": {
              "type": "string"
            }
          },
          "metadata": {},
          "execution_count": 33
        }
      ]
    },
    {
      "cell_type": "markdown",
      "source": [
        "###Join Method:-\n",
        "###Join in Between"
      ],
      "metadata": {
        "id": "qkZDH8znniPf"
      }
    },
    {
      "cell_type": "code",
      "source": [
        "name = \"Sunny Bhabeen Chandra\"\n",
        "\"*\".join(name)"
      ],
      "metadata": {
        "colab": {
          "base_uri": "https://localhost:8080/",
          "height": 35
        },
        "id": "88O49M2tkwFo",
        "outputId": "f40dbfe6-9287-4d0f-c3ff-1e3f976dce1f"
      },
      "execution_count": 34,
      "outputs": [
        {
          "output_type": "execute_result",
          "data": {
            "text/plain": [
              "'S*u*n*n*y* *B*h*a*b*e*e*n* *C*h*a*n*d*r*a'"
            ],
            "application/vnd.google.colaboratory.intrinsic+json": {
              "type": "string"
            }
          },
          "metadata": {},
          "execution_count": 34
        }
      ]
    },
    {
      "cell_type": "code",
      "source": [
        "name = \"Sunny Bhabeen Chandra\"\n",
        "\"|\".join(name)"
      ],
      "metadata": {
        "colab": {
          "base_uri": "https://localhost:8080/",
          "height": 35
        },
        "id": "CMH_6K-bomMp",
        "outputId": "d5f64ada-fa23-4617-bf25-3b6f190cbbe5"
      },
      "execution_count": 35,
      "outputs": [
        {
          "output_type": "execute_result",
          "data": {
            "text/plain": [
              "'S|u|n|n|y| |B|h|a|b|e|e|n| |C|h|a|n|d|r|a'"
            ],
            "application/vnd.google.colaboratory.intrinsic+json": {
              "type": "string"
            }
          },
          "metadata": {},
          "execution_count": 35
        }
      ]
    },
    {
      "cell_type": "code",
      "source": [
        "name = \"Sunny Bhabeen Chandra\"\n",
        "\" \".join(name)"
      ],
      "metadata": {
        "colab": {
          "base_uri": "https://localhost:8080/",
          "height": 35
        },
        "id": "tvrlc4iApIQA",
        "outputId": "d991773d-0e25-4e97-be90-011a1eaa6dad"
      },
      "execution_count": 36,
      "outputs": [
        {
          "output_type": "execute_result",
          "data": {
            "text/plain": [
              "'S u n n y   B h a b e e n   C h a n d r a'"
            ],
            "application/vnd.google.colaboratory.intrinsic+json": {
              "type": "string"
            }
          },
          "metadata": {},
          "execution_count": 36
        }
      ]
    },
    {
      "cell_type": "markdown",
      "source": [
        "###Remove Extra Spaces front and back of the String:-"
      ],
      "metadata": {
        "id": "Xob0qMF-pcoB"
      }
    },
    {
      "cell_type": "code",
      "source": [
        "name = \"  Sunny   \"\n",
        "name.strip(\" \") #Strip spaces"
      ],
      "metadata": {
        "colab": {
          "base_uri": "https://localhost:8080/",
          "height": 35
        },
        "id": "lZC8zlQypKUA",
        "outputId": "1ca73437-bfd8-452a-c584-db0f65a174ee"
      },
      "execution_count": 37,
      "outputs": [
        {
          "output_type": "execute_result",
          "data": {
            "text/plain": [
              "'Sunny'"
            ],
            "application/vnd.google.colaboratory.intrinsic+json": {
              "type": "string"
            }
          },
          "metadata": {},
          "execution_count": 37
        }
      ]
    },
    {
      "cell_type": "markdown",
      "source": [
        "###Remove Space from Left side:-"
      ],
      "metadata": {
        "id": "99jMCEZOp97P"
      }
    },
    {
      "cell_type": "code",
      "source": [
        "name = \"  Sunny   \"\n",
        "name.lstrip(\" \")"
      ],
      "metadata": {
        "colab": {
          "base_uri": "https://localhost:8080/",
          "height": 35
        },
        "id": "ZuLboumgpxco",
        "outputId": "1a680e19-acb3-468e-b61e-40f2d21816ff"
      },
      "execution_count": 38,
      "outputs": [
        {
          "output_type": "execute_result",
          "data": {
            "text/plain": [
              "'Sunny   '"
            ],
            "application/vnd.google.colaboratory.intrinsic+json": {
              "type": "string"
            }
          },
          "metadata": {},
          "execution_count": 38
        }
      ]
    },
    {
      "cell_type": "markdown",
      "source": [
        "###Remove Space from Right side:-"
      ],
      "metadata": {
        "id": "s00TEAI8qIf3"
      }
    },
    {
      "cell_type": "code",
      "source": [
        "name = \"  Sunny   \"\n",
        "name.rstrip(\" \")"
      ],
      "metadata": {
        "colab": {
          "base_uri": "https://localhost:8080/",
          "height": 35
        },
        "id": "OLuDDZ3EqGSl",
        "outputId": "022c1784-4b71-4b89-96df-a94c8eb855b6"
      },
      "execution_count": 39,
      "outputs": [
        {
          "output_type": "execute_result",
          "data": {
            "text/plain": [
              "'  Sunny'"
            ],
            "application/vnd.google.colaboratory.intrinsic+json": {
              "type": "string"
            }
          },
          "metadata": {},
          "execution_count": 39
        }
      ]
    },
    {
      "cell_type": "markdown",
      "source": [
        "###Remove All the Space:-"
      ],
      "metadata": {
        "id": "tgc3jJt2qUnY"
      }
    },
    {
      "cell_type": "code",
      "source": [
        "name = \"  Sunny   \"\n",
        "name.replace(\" \", \"\")"
      ],
      "metadata": {
        "colab": {
          "base_uri": "https://localhost:8080/",
          "height": 35
        },
        "id": "I5wLbNBQqQyo",
        "outputId": "9c4f1e17-8564-47a0-f873-f2eb5a603d73"
      },
      "execution_count": 40,
      "outputs": [
        {
          "output_type": "execute_result",
          "data": {
            "text/plain": [
              "'Sunny'"
            ],
            "application/vnd.google.colaboratory.intrinsic+json": {
              "type": "string"
            }
          },
          "metadata": {},
          "execution_count": 40
        }
      ]
    },
    {
      "cell_type": "markdown",
      "source": [
        "###Formatting:-"
      ],
      "metadata": {
        "id": "Nb_kzxp_q9LP"
      }
    },
    {
      "cell_type": "code",
      "source": [
        "name = \"Sunny\"\n",
        "name.center(20, \"#\")"
      ],
      "metadata": {
        "colab": {
          "base_uri": "https://localhost:8080/",
          "height": 35
        },
        "id": "CVAjuQycqftA",
        "outputId": "1e6a0f26-b9e4-4dfa-e286-9e8b5ad86214"
      },
      "execution_count": 41,
      "outputs": [
        {
          "output_type": "execute_result",
          "data": {
            "text/plain": [
              "'#######Sunny########'"
            ],
            "application/vnd.google.colaboratory.intrinsic+json": {
              "type": "string"
            }
          },
          "metadata": {},
          "execution_count": 41
        }
      ]
    },
    {
      "cell_type": "markdown",
      "source": [
        "###Checking String Cases:-\n",
        "###For validating User input"
      ],
      "metadata": {
        "id": "5dQGuuGTraIp"
      }
    },
    {
      "cell_type": "code",
      "source": [
        "name = \"SUNNY\"\n",
        "name.isupper()"
      ],
      "metadata": {
        "colab": {
          "base_uri": "https://localhost:8080/"
        },
        "id": "NM9zkiT5rHi3",
        "outputId": "cb6ca090-4d0c-424f-fc95-abeff5cfab81"
      },
      "execution_count": 42,
      "outputs": [
        {
          "output_type": "execute_result",
          "data": {
            "text/plain": [
              "True"
            ]
          },
          "metadata": {},
          "execution_count": 42
        }
      ]
    },
    {
      "cell_type": "code",
      "source": [
        "name = \"SUNNY\"\n",
        "name.islower()"
      ],
      "metadata": {
        "colab": {
          "base_uri": "https://localhost:8080/"
        },
        "id": "j1tjfFzarziY",
        "outputId": "dcb7dc5b-6c79-4d41-fc7a-45bdf2c7c34d"
      },
      "execution_count": 43,
      "outputs": [
        {
          "output_type": "execute_result",
          "data": {
            "text/plain": [
              "False"
            ]
          },
          "metadata": {},
          "execution_count": 43
        }
      ]
    },
    {
      "cell_type": "code",
      "source": [
        "name = \"SUNNY\"\n",
        "name.isspace()"
      ],
      "metadata": {
        "colab": {
          "base_uri": "https://localhost:8080/"
        },
        "id": "dnVAIy_Sr4vP",
        "outputId": "53894b68-d6c2-4690-8239-689171d773cb"
      },
      "execution_count": 44,
      "outputs": [
        {
          "output_type": "execute_result",
          "data": {
            "text/plain": [
              "False"
            ]
          },
          "metadata": {},
          "execution_count": 44
        }
      ]
    },
    {
      "cell_type": "code",
      "source": [
        "name = \"SUNNY\"\n",
        "name.istitle()"
      ],
      "metadata": {
        "colab": {
          "base_uri": "https://localhost:8080/"
        },
        "id": "CBXuG-kNr8__",
        "outputId": "669c3a21-cf97-4fea-ea77-628fd08251c4"
      },
      "execution_count": 45,
      "outputs": [
        {
          "output_type": "execute_result",
          "data": {
            "text/plain": [
              "False"
            ]
          },
          "metadata": {},
          "execution_count": 45
        }
      ]
    },
    {
      "cell_type": "code",
      "source": [
        "phoneNumber = \"+917001093722\"\n",
        "phoneNumber.startswith(\"+91\")"
      ],
      "metadata": {
        "colab": {
          "base_uri": "https://localhost:8080/"
        },
        "id": "S4nUBOM1sKOf",
        "outputId": "116dfdb4-3789-4ea6-f502-82101a1a0a03"
      },
      "execution_count": 51,
      "outputs": [
        {
          "output_type": "execute_result",
          "data": {
            "text/plain": [
              "True"
            ]
          },
          "metadata": {},
          "execution_count": 51
        }
      ]
    },
    {
      "cell_type": "code",
      "source": [
        "phoneNumber = \"+917001093722\"\n",
        "phoneNumber.endswith(\"2\")"
      ],
      "metadata": {
        "colab": {
          "base_uri": "https://localhost:8080/"
        },
        "id": "J1zEdhXjuuJg",
        "outputId": "3033d882-6a78-4758-8dac-4ace0a2c882d"
      },
      "execution_count": 52,
      "outputs": [
        {
          "output_type": "execute_result",
          "data": {
            "text/plain": [
              "True"
            ]
          },
          "metadata": {},
          "execution_count": 52
        }
      ]
    },
    {
      "cell_type": "code",
      "source": [
        "phoneNumber = \"7001093722\"\n",
        "phoneNumber.isdigit()"
      ],
      "metadata": {
        "colab": {
          "base_uri": "https://localhost:8080/"
        },
        "id": "BioQULPgvPmH",
        "outputId": "6dc6c05d-5153-4314-d648-f3f366ef6612"
      },
      "execution_count": 55,
      "outputs": [
        {
          "output_type": "execute_result",
          "data": {
            "text/plain": [
              "True"
            ]
          },
          "metadata": {},
          "execution_count": 55
        }
      ]
    },
    {
      "cell_type": "code",
      "source": [
        "PAN_NUMBERS = \"GHRTP5489N\"\n",
        "PAN_NUMBERS.isalnum()  #Check for Alphabets or Numeric Case in String"
      ],
      "metadata": {
        "colab": {
          "base_uri": "https://localhost:8080/"
        },
        "id": "9oMinSW6vYAn",
        "outputId": "cf3222cc-3ffe-4f63-c19a-7c097cb86087"
      },
      "execution_count": 56,
      "outputs": [
        {
          "output_type": "execute_result",
          "data": {
            "text/plain": [
              "True"
            ]
          },
          "metadata": {},
          "execution_count": 56
        }
      ]
    },
    {
      "cell_type": "code",
      "source": [
        "PAN_NUMBERS = \"45789325\"\n",
        "PAN_NUMBERS.isalnum()"
      ],
      "metadata": {
        "colab": {
          "base_uri": "https://localhost:8080/"
        },
        "id": "oqPQZn9ow9JX",
        "outputId": "306276dd-ec15-4e89-fe65-e676b305f45d"
      },
      "execution_count": 57,
      "outputs": [
        {
          "output_type": "execute_result",
          "data": {
            "text/plain": [
              "True"
            ]
          },
          "metadata": {},
          "execution_count": 57
        }
      ]
    },
    {
      "cell_type": "code",
      "source": [],
      "metadata": {
        "id": "5KeKGIArxZWX"
      },
      "execution_count": null,
      "outputs": []
    }
  ]
}